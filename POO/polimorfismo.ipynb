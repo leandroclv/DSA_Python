{
 "cells": [
  {
   "cell_type": "code",
   "execution_count": 3,
   "metadata": {},
   "outputs": [],
   "source": [
    "# Superclasse\n",
    "class Veiculo:\n",
    "    def __init__(self, marca, modelo):\n",
    "        self.marca = marca\n",
    "        self.modelo = modelo\n",
    "        \n",
    "    def acelerar(self):\n",
    "        pass\n",
    "    \n",
    "    def frear(self):\n",
    "        pass"
   ]
  },
  {
   "cell_type": "code",
   "execution_count": 4,
   "metadata": {},
   "outputs": [],
   "source": [
    "#Subclasse\n",
    "class Carro(Veiculo):\n",
    "    def acelerar(self):\n",
    "        print('O carro está acelerando')\n",
    "    \n",
    "    def frear(self):\n",
    "        print('O carro está freando')"
   ]
  },
  {
   "cell_type": "code",
   "execution_count": 5,
   "metadata": {},
   "outputs": [],
   "source": [
    "#Subclasse\n",
    "class Moto(Veiculo):\n",
    "    def acelerar(self):\n",
    "        print('A moto está acelerando')\n",
    "        \n",
    "    def frear(self):\n",
    "        print('A moto está freando')"
   ]
  },
  {
   "cell_type": "code",
   "execution_count": 6,
   "metadata": {},
   "outputs": [],
   "source": [
    "#Subclasse\n",
    "class Aviao(Veiculo):\n",
    "    def acelerar(self):\n",
    "        print('O avião está acelerando')\n",
    "        \n",
    "    def frear(self):\n",
    "        print('O avião está freando')\n",
    "        \n",
    "    def decolar(self):\n",
    "        print('O avião está decolando')"
   ]
  },
  {
   "cell_type": "code",
   "execution_count": 7,
   "metadata": {},
   "outputs": [],
   "source": [
    "#Cria os objetos\n",
    "lista_veiculos = [Carro('Porche', '911 Turbo'), Moto('Honda', 'CB 1000R Black Edition'), Aviao('Boeing', '757')]"
   ]
  },
  {
   "cell_type": "code",
   "execution_count": 8,
   "metadata": {},
   "outputs": [
    {
     "name": "stdout",
     "output_type": "stream",
     "text": [
      "O carro está acelerando\n",
      "O carro está freando\n",
      "---\n",
      "A moto está acelerando\n",
      "A moto está freando\n",
      "---\n",
      "O avião está acelerando\n",
      "O avião está freando\n",
      "O avião está decolando\n",
      "---\n"
     ]
    }
   ],
   "source": [
    "#Loop\n",
    "for item in lista_veiculos:\n",
    "    #O método acelerar tem comportamento diferente dependendo do tipo de objeto\n",
    "    item.acelerar()\n",
    "    \n",
    "    #O método frear tem comportamento diferente dependendo do tipo de objeto\n",
    "    item.frear()\n",
    "    \n",
    "    #Executamos o método decolar somente se o objeto for instância da classe Aviao\n",
    "    if isinstance(item, Aviao):\n",
    "        item.decolar()\n",
    "    \n",
    "    print('---')"
   ]
  },
  {
   "cell_type": "code",
   "execution_count": null,
   "metadata": {},
   "outputs": [],
   "source": []
  }
 ],
 "metadata": {
  "kernelspec": {
   "display_name": "base",
   "language": "python",
   "name": "python3"
  },
  "language_info": {
   "codemirror_mode": {
    "name": "ipython",
    "version": 3
   },
   "file_extension": ".py",
   "mimetype": "text/x-python",
   "name": "python",
   "nbconvert_exporter": "python",
   "pygments_lexer": "ipython3",
   "version": "3.11.7"
  }
 },
 "nbformat": 4,
 "nbformat_minor": 2
}

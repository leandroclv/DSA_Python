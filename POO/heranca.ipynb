{
 "cells": [
  {
   "cell_type": "code",
   "execution_count": 2,
   "metadata": {},
   "outputs": [],
   "source": [
    "#Criando a classe Animal - Super-classe\n",
    "class Animal:\n",
    "    def __init__(self):\n",
    "        print('Animal criado')\n",
    "        \n",
    "    def imprimir(self):\n",
    "        print('Este é um animal.')\n",
    "        \n",
    "    def comer(self):\n",
    "        print('Hora de comer')\n",
    "        \n",
    "    def emitir_som(self):\n",
    "        pass"
   ]
  },
  {
   "cell_type": "code",
   "execution_count": 3,
   "metadata": {},
   "outputs": [],
   "source": [
    "#Criando a classe Cachorro - Sub-classe\n",
    "class Cachorro(Animal):\n",
    "    def __init__(self):\n",
    "        Animal.__init__(self)\n",
    "        print('Objeto Cachorro criado')\n",
    "        \n",
    "    def emitir_som(self):\n",
    "        print('Au au!')"
   ]
  },
  {
   "cell_type": "code",
   "execution_count": 7,
   "metadata": {},
   "outputs": [],
   "source": [
    "#Criando a classe Gato - Sub-classe\n",
    "class Gato(Animal):\n",
    "    def __init__(self):\n",
    "        Animal.__init__(self)\n",
    "        print('Objeto Gato criado')\n",
    "    \n",
    "    def emitir_som(self):\n",
    "        print('Miau!')"
   ]
  },
  {
   "cell_type": "code",
   "execution_count": 8,
   "metadata": {},
   "outputs": [
    {
     "name": "stdout",
     "output_type": "stream",
     "text": [
      "Animal criado\n",
      "Objeto Cachorro criado\n"
     ]
    }
   ],
   "source": [
    "#Criando um objeto (instanciando uma classe)\n",
    "rex = Cachorro()"
   ]
  },
  {
   "cell_type": "code",
   "execution_count": 10,
   "metadata": {},
   "outputs": [
    {
     "name": "stdout",
     "output_type": "stream",
     "text": [
      "Animal criado\n",
      "Objeto Gato criado\n"
     ]
    }
   ],
   "source": [
    "#Criando um objeto (instanciando uma classe)\n",
    "zeze = Gato()"
   ]
  },
  {
   "cell_type": "code",
   "execution_count": 11,
   "metadata": {},
   "outputs": [
    {
     "name": "stdout",
     "output_type": "stream",
     "text": [
      "Au au!\n"
     ]
    }
   ],
   "source": [
    "rex.emitir_som()"
   ]
  },
  {
   "cell_type": "code",
   "execution_count": null,
   "metadata": {},
   "outputs": [
    {
     "name": "stdout",
     "output_type": "stream",
     "text": [
      "Miau!\n"
     ]
    }
   ],
   "source": [
    "zeze.emitir_som()"
   ]
  },
  {
   "cell_type": "code",
   "execution_count": null,
   "metadata": {},
   "outputs": [
    {
     "name": "stdout",
     "output_type": "stream",
     "text": [
      "Este é um animal.\n"
     ]
    }
   ],
   "source": [
    "#Executando o método da classe Cachorro (sub-classe)\n",
    "rex.imprimir()"
   ]
  },
  {
   "cell_type": "code",
   "execution_count": null,
   "metadata": {},
   "outputs": [
    {
     "name": "stdout",
     "output_type": "stream",
     "text": [
      "Hora de comer\n"
     ]
    }
   ],
   "source": [
    "#Executando o método da classe Animal (super-classe)\n",
    "rex.comer()"
   ]
  },
  {
   "cell_type": "code",
   "execution_count": null,
   "metadata": {},
   "outputs": [
    {
     "name": "stdout",
     "output_type": "stream",
     "text": [
      "Hora de comer\n"
     ]
    }
   ],
   "source": [
    "#Executando o método da classe Gato (sub-classe)\n",
    "zeze.comer()"
   ]
  },
  {
   "cell_type": "code",
   "execution_count": null,
   "metadata": {},
   "outputs": [],
   "source": []
  }
 ],
 "metadata": {
  "kernelspec": {
   "display_name": "base",
   "language": "python",
   "name": "python3"
  },
  "language_info": {
   "codemirror_mode": {
    "name": "ipython",
    "version": 3
   },
   "file_extension": ".py",
   "mimetype": "text/x-python",
   "name": "python",
   "nbconvert_exporter": "python",
   "pygments_lexer": "ipython3",
   "version": "3.11.7"
  }
 },
 "nbformat": 4,
 "nbformat_minor": 2
}

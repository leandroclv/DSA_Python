{
 "cells": [
  {
   "cell_type": "code",
   "execution_count": 1,
   "id": "4146b5b4",
   "metadata": {},
   "outputs": [],
   "source": [
    "#Introdução a deep learning com TensorFlow\n",
    "#Problema de negócio: Construir um modelo de inteligência artificial capaz de classificar imagens considerando 10 categorias: ['airplane', 'automobile', 'bird', 'cat', 'deer', 'dog', 'frog', 'horse', 'ship', 'truck']. Dada uma nova imagem de uma dessas categorias o modelo deve ser capaz de classificar e indicar o que é a imagem."
   ]
  },
  {
   "cell_type": "code",
   "execution_count": null,
   "id": "ed80e897",
   "metadata": {},
   "outputs": [],
   "source": [
    "#Instala o TF\n",
    "#pip install -q tensorflow==2.12"
   ]
  },
  {
   "cell_type": "code",
   "execution_count": 3,
   "id": "55951dfe",
   "metadata": {},
   "outputs": [
    {
     "name": "stdout",
     "output_type": "stream",
     "text": [
      "env: TF_CPP_MIN_LOG_LEVEL=3\n"
     ]
    }
   ],
   "source": [
    "#Silencia mensagens do TF\n",
    "%env TF_CPP_MIN_LOG_LEVEL=3"
   ]
  },
  {
   "cell_type": "code",
   "execution_count": 5,
   "id": "000b7581",
   "metadata": {},
   "outputs": [],
   "source": [
    "#imports\n",
    "import tensorflow as tf\n",
    "from tensorflow.keras import datasets, layers, models\n",
    "import matplotlib.pyplot as plt\n",
    "import numpy as np\n",
    "from PIL import Image"
   ]
  },
  {
   "cell_type": "code",
   "execution_count": 6,
   "id": "8e072ca8",
   "metadata": {},
   "outputs": [],
   "source": [
    "#Carregando os dados"
   ]
  },
  {
   "cell_type": "code",
   "execution_count": 7,
   "id": "a55d2c38",
   "metadata": {},
   "outputs": [
    {
     "name": "stdout",
     "output_type": "stream",
     "text": [
      "Downloading data from https://www.cs.toronto.edu/~kriz/cifar-10-python.tar.gz\n",
      "170500096/170498071 [==============================] - 57s 0us/step\n",
      "170508288/170498071 [==============================] - 57s 0us/step\n"
     ]
    }
   ],
   "source": [
    "#Carrega o dataset CIFAR-10\n",
    "(imagens_treino, labels_treino), (imagens_teste, labels_teste) = datasets.cifar10.load_data()"
   ]
  },
  {
   "cell_type": "code",
   "execution_count": 8,
   "id": "40fdd5d5",
   "metadata": {},
   "outputs": [],
   "source": [
    "#Classes das imagens\n",
    "nomes_classes = ['airplane', 'automobile', 'bird', 'cat', 'deer', 'dog', 'frog', 'horse', 'ship', 'truck']"
   ]
  },
  {
   "cell_type": "code",
   "execution_count": 9,
   "id": "f42c240d",
   "metadata": {},
   "outputs": [],
   "source": [
    "#Pré-processamento e visualização das imagens"
   ]
  },
  {
   "cell_type": "code",
   "execution_count": 10,
   "id": "8384df82",
   "metadata": {},
   "outputs": [],
   "source": [
    "#Normaliza os valores dos pixels para que os dados fiquem na mesma escala\n",
    "imagens_treino = imagens_treino /255.0\n",
    "imagens_teste = imagens_teste / 255.0"
   ]
  },
  {
   "cell_type": "code",
   "execution_count": null,
   "id": "b76fd50a",
   "metadata": {},
   "outputs": [],
   "source": [
    "#Função para exibir as imagens\n",
    "def visualiza_imagens(images, labels):\n",
    "    plt.figure(figsize = (10, 10))\n",
    "    for i in range(25):\n",
    "        plt.subplot(5, 5, i+i)\n",
    "        plt.xticks([])\n",
    "        plt.yticks([])\n",
    "        plt.grid(False)\n",
    "        plt.imshow(images[i], cmap = plt.cm.binary)\n",
    "        plt.xlabel(nomes_classes[labels[i][0]])\n",
    "    plt.show()"
   ]
  }
 ],
 "metadata": {
  "kernelspec": {
   "display_name": "base",
   "language": "python",
   "name": "python3"
  },
  "language_info": {
   "codemirror_mode": {
    "name": "ipython",
    "version": 3
   },
   "file_extension": ".py",
   "mimetype": "text/x-python",
   "name": "python",
   "nbconvert_exporter": "python",
   "pygments_lexer": "ipython3",
   "version": "3.6.5"
  }
 },
 "nbformat": 4,
 "nbformat_minor": 5
}

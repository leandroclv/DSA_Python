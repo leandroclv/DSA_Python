{
 "cells": [
  {
   "cell_type": "code",
   "execution_count": 1,
   "id": "75bee48d",
   "metadata": {},
   "outputs": [],
   "source": [
    "#Robô trading com IA em Python"
   ]
  },
  {
   "cell_type": "code",
   "execution_count": 2,
   "id": "3f4f4b12",
   "metadata": {},
   "outputs": [],
   "source": [
    "#Problema de negócio:\n",
    "#Construir um robô (modelo em linguagem Python) baseado em inteligência artificial que aprenda a operar na bolsa de valores a partir de experimentos de compra e venda de ações. Dado um saldo inicial o modelo deve aprensentar o resultado (lucro) a ser obtido depois de ações de compra e venda."
   ]
  },
  {
   "cell_type": "code",
   "execution_count": null,
   "id": "b685d25a",
   "metadata": {},
   "outputs": [],
   "source": []
  }
 ],
 "metadata": {
  "kernelspec": {
   "display_name": "base",
   "language": "python",
   "name": "python3"
  },
  "language_info": {
   "codemirror_mode": {
    "name": "ipython",
    "version": 3
   },
   "file_extension": ".py",
   "mimetype": "text/x-python",
   "name": "python",
   "nbconvert_exporter": "python",
   "pygments_lexer": "ipython3",
   "version": "3.6.5"
  }
 },
 "nbformat": 4,
 "nbformat_minor": 5
}

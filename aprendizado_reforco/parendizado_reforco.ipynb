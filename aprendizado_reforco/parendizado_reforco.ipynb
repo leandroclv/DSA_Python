{
 "cells": [
  {
   "cell_type": "code",
   "execution_count": 1,
   "id": "75bee48d",
   "metadata": {},
   "outputs": [],
   "source": [
    "#Robô trading com IA em Python"
   ]
  },
  {
   "cell_type": "code",
   "execution_count": 2,
   "id": "3f4f4b12",
   "metadata": {},
   "outputs": [],
   "source": [
    "#Problema de negócio:\n",
    "#Construir um robô (modelo em linguagem Python) baseado em inteligência artificial que aprenda a operar na bolsa de valores a partir de experimentos de compra e venda de ações. Dado um saldo inicial o modelo deve aprensentar o resultado (lucro) a ser obtido depois de ações de compra e venda."
   ]
  },
  {
   "cell_type": "code",
   "execution_count": 4,
   "id": "8d94f127",
   "metadata": {},
   "outputs": [],
   "source": [
    "!pip install -q plotly"
   ]
  },
  {
   "cell_type": "code",
   "execution_count": 5,
   "id": "b685d25a",
   "metadata": {},
   "outputs": [],
   "source": [
    "#Imports\n",
    "import random\n",
    "import plotly.graph_objects as go\n",
    "import pandas as pd\n",
    "import numpy as np\n",
    "from datetime import datetime"
   ]
  },
  {
   "cell_type": "markdown",
   "id": "4281eec4",
   "metadata": {},
   "source": [
    "##Carregando e visualizando os dados com Candlestick"
   ]
  },
  {
   "cell_type": "code",
   "execution_count": 6,
   "id": "c7989677",
   "metadata": {},
   "outputs": [],
   "source": [
    "#Carrega os dados \n",
    "df = pd.read_csv('dataset.csv')"
   ]
  },
  {
   "cell_type": "code",
   "execution_count": 7,
   "id": "081c61f8",
   "metadata": {},
   "outputs": [
    {
     "data": {
      "text/plain": [
       "(506, 11)"
      ]
     },
     "execution_count": 7,
     "metadata": {},
     "output_type": "execute_result"
    }
   ],
   "source": [
    "df.shape"
   ]
  },
  {
   "cell_type": "code",
   "execution_count": null,
   "id": "62a2b7d9",
   "metadata": {},
   "outputs": [],
   "source": []
  }
 ],
 "metadata": {
  "kernelspec": {
   "display_name": "base",
   "language": "python",
   "name": "python3"
  },
  "language_info": {
   "codemirror_mode": {
    "name": "ipython",
    "version": 3
   },
   "file_extension": ".py",
   "mimetype": "text/x-python",
   "name": "python",
   "nbconvert_exporter": "python",
   "pygments_lexer": "ipython3",
   "version": "3.6.5"
  }
 },
 "nbformat": 4,
 "nbformat_minor": 5
}
